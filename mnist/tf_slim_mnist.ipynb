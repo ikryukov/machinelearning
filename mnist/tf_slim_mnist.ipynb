{
 "cells": [
  {
   "cell_type": "code",
   "execution_count": 1,
   "metadata": {
    "collapsed": false
   },
   "outputs": [],
   "source": [
    "import tensorflow as tf\n",
    "import tensorflow.contrib.slim as slim\n",
    "from tensorflow.contrib.layers.python.layers import initializers\n",
    "from tensorflow.examples.tutorials.mnist import input_data\n",
    "from math import sqrt"
   ]
  },
  {
   "cell_type": "code",
   "execution_count": 2,
   "metadata": {
    "collapsed": false
   },
   "outputs": [
    {
     "name": "stdout",
     "output_type": "stream",
     "text": [
      "Extracting MNIST_data\\train-images-idx3-ubyte.gz\n",
      "Extracting MNIST_data\\train-labels-idx1-ubyte.gz\n",
      "Extracting MNIST_data\\t10k-images-idx3-ubyte.gz\n",
      "Extracting MNIST_data\\t10k-labels-idx1-ubyte.gz\n"
     ]
    }
   ],
   "source": [
    "mnist = input_data.read_data_sets('MNIST_data', one_hot=True)"
   ]
  },
  {
   "cell_type": "code",
   "execution_count": 3,
   "metadata": {
    "collapsed": true
   },
   "outputs": [],
   "source": [
    "learning_rate = 0.0001\n",
    "training_epochs = 25\n",
    "batch_size = 100\n",
    "display_step = 1\n",
    "logs_path = './tensorflow_logs/mnist'\n",
    "# Network Parameters\n",
    "n_hidden_1 = 256 # 1st layer number of features\n",
    "n_hidden_2 = 256 # 2nd layer number of features\n",
    "n_input = 28*28 # MNIST data input (img shape: 28*28)\n",
    "n_classes = 10 # MNIST total classes (0-9 digits)"
   ]
  },
  {
   "cell_type": "code",
   "execution_count": 4,
   "metadata": {
    "collapsed": true
   },
   "outputs": [],
   "source": [
    "x = tf.placeholder(tf.float32, shape=[None, n_input], name='InputData')\n",
    "y = tf.placeholder(tf.float32, shape=[None, n_classes], name='LabelData')\n",
    "x_image = tf.reshape(x, [-1,28,28,1], name='image')"
   ]
  },
  {
   "cell_type": "code",
   "execution_count": 5,
   "metadata": {
    "collapsed": false
   },
   "outputs": [],
   "source": [
    "def NN(inputs):\n",
    "    with slim.arg_scope([slim.fully_connected, slim.conv2d], \n",
    "                        activation_fn=tf.nn.relu,\n",
    "                        weights_initializer=initializers.xavier_initializer()\n",
    "                       ):\n",
    "        out = slim.conv2d(inputs, 32, [3, 3])\n",
    "        print (out.get_shape())\n",
    "        out = slim.max_pool2d(out, [2, 2], [2, 2])\n",
    "        print (out.get_shape())\n",
    "        out = slim.conv2d(inputs, 64, [3, 3])\n",
    "        print (out.get_shape())\n",
    "        out = slim.max_pool2d(out, [2, 2], [2, 2])\n",
    "        print (out.get_shape())\n",
    "        out = slim.flatten(out)\n",
    "        print (out.get_shape())\n",
    "        out = slim.fully_connected(out, 256)\n",
    "        print (out.get_shape())\n",
    "        out = slim.fully_connected(out, 256)\n",
    "        print (out.get_shape())\n",
    "        out = slim.fully_connected(out, 10, activation_fn=None, normalizer_fn=None)\n",
    "    return out"
   ]
  },
  {
   "cell_type": "code",
   "execution_count": 6,
   "metadata": {
    "collapsed": false
   },
   "outputs": [
    {
     "name": "stdout",
     "output_type": "stream",
     "text": [
      "(?, 28, 28, 32)\n",
      "(?, 14, 14, 32)\n",
      "(?, 28, 28, 64)\n",
      "(?, 14, 14, 64)\n",
      "(?, 12544)\n",
      "(?, 256)\n",
      "(?, 256)\n"
     ]
    }
   ],
   "source": [
    "with tf.name_scope('Model'):\n",
    "    # Model\n",
    "    pred = NN(x_image)\n",
    "with tf.name_scope('Cost'):\n",
    "    # Minimize error using cross entropy\n",
    "    cost = tf.reduce_mean(tf.nn.softmax_cross_entropy_with_logits(pred, y))\n",
    "with tf.name_scope('SGD'):\n",
    "    # Gradient Descent\n",
    "    optimizer = tf.train.AdamOptimizer(learning_rate=learning_rate).minimize(cost)\n",
    "with tf.name_scope('Accuracy'):\n",
    "    # Accuracy\n",
    "    correct_pred = tf.equal(tf.argmax(pred, 1), tf.argmax(y, 1))\n",
    "    accuracy = tf.reduce_mean(tf.cast(correct_pred, tf.float32))"
   ]
  },
  {
   "cell_type": "code",
   "execution_count": 7,
   "metadata": {
    "collapsed": false
   },
   "outputs": [
    {
     "data": {
      "text/plain": [
       "(10000, 784)"
      ]
     },
     "execution_count": 7,
     "metadata": {},
     "output_type": "execute_result"
    }
   ],
   "source": [
    "mnist.test.images.shape"
   ]
  },
  {
   "cell_type": "code",
   "execution_count": null,
   "metadata": {
    "collapsed": false
   },
   "outputs": [],
   "source": [
    "# Initializing the variables\n",
    "init = tf.global_variables_initializer()\n",
    "# Create a summary to monitor cost tensor\n",
    "tf.scalar_summary(\"cost\", cost)\n",
    "# Create a summary to monitor accuracy tensor\n",
    "tf.scalar_summary(\"accuracy\", accuracy)\n",
    "\n",
    "# Merge all summaries into a single op\n",
    "merged_summary_op = tf.merge_all_summaries()"
   ]
  },
  {
   "cell_type": "code",
   "execution_count": null,
   "metadata": {
    "collapsed": false,
    "scrolled": false
   },
   "outputs": [
    {
     "name": "stdout",
     "output_type": "stream",
     "text": [
      "Epoch: 0001 cost = 0.437447676 acc = 0.960000038\n",
      "Epoch: 0002 cost = 0.154766474 acc = 0.979999959\n",
      "Epoch: 0003 cost = 0.101445435 acc = 0.960000038\n",
      "Epoch: 0004 cost = 0.074161657 acc = 0.970000029\n",
      "Epoch: 0005 cost = 0.058629182 acc = 0.989999950\n",
      "Epoch: 0006 cost = 0.048001077 acc = 0.979999959\n",
      "Epoch: 0007 cost = 0.040303289 acc = 1.000000000\n",
      "Epoch: 0008 cost = 0.034975828 acc = 0.970000029\n",
      "Epoch: 0009 cost = 0.029890664 acc = 0.989999950\n",
      "Epoch: 0010 cost = 0.025463971 acc = 0.989999950\n",
      "Epoch: 0011 cost = 0.021628636 acc = 0.989999950\n",
      "Epoch: 0012 cost = 0.018641995 acc = 1.000000000\n",
      "Epoch: 0013 cost = 0.016536066 acc = 0.999999940\n",
      "Epoch: 0014 cost = 0.013843616 acc = 0.980000019\n",
      "Epoch: 0015 cost = 0.011988339 acc = 0.990000010\n",
      "Epoch: 0016 cost = 0.011519553 acc = 1.000000000\n",
      "Epoch: 0017 cost = 0.009677692 acc = 1.000000000\n",
      "Epoch: 0018 cost = 0.006960263 acc = 1.000000000\n"
     ]
    }
   ],
   "source": [
    "%%time\n",
    "# Launch the graph\n",
    "with tf.Session() as sess:\n",
    "    sess.run(init)\n",
    "    # op to write logs to Tensorboard\n",
    "    summary_writer = tf.train.SummaryWriter(logs_path, graph=tf.get_default_graph())\n",
    "\n",
    "    # Training cycle\n",
    "    for epoch in range(training_epochs):\n",
    "        avg_cost = 0.\n",
    "        total_batch = int(mnist.train.num_examples/batch_size)\n",
    "        # Loop over all batches\n",
    "        for i in range(total_batch):\n",
    "            batch_xs, batch_ys = mnist.train.next_batch(batch_size)\n",
    "            # Run optimization op (backprop), cost op (to get loss value)\n",
    "            # and summary nodes\n",
    "            _, c, acc, summary = sess.run([optimizer, cost, accuracy, merged_summary_op],\n",
    "                                     feed_dict={x: batch_xs, y: batch_ys})\n",
    "            # Write logs at every iteration\n",
    "            summary_writer.add_summary(summary, epoch * total_batch + i)\n",
    "            # Compute average loss\n",
    "            avg_cost += c / total_batch\n",
    "        # Display logs per epoch step\n",
    "        if (epoch+1) % display_step == 0:\n",
    "            print (\"Epoch:\", '%04d' % (epoch+1), \"cost =\", \"{:.9f}\".format(avg_cost), \"acc =\", \"{:.9f}\".format(acc))\n",
    "\n",
    "    print (\"Optimization Finished!\")\n",
    "\n",
    "    # Test model\n",
    "    # Calculate accuracy\n",
    "    test_xs, test_ys = mnist.test.next_batch(3000)\n",
    "    print ('Final accuracy : %s' % sess.run(accuracy, feed_dict={x: test_xs ,y: test_ys}))\n",
    "\n",
    "    print (\"Run the command line:\\n\" \\\n",
    "          \"--> tensorboard --logdir=./tensorflow_logs \" \\\n",
    "          \"\\nThen open http://0.0.0.0:6006/ into your web browser\")"
   ]
  },
  {
   "cell_type": "code",
   "execution_count": null,
   "metadata": {
    "collapsed": true
   },
   "outputs": [],
   "source": []
  }
 ],
 "metadata": {
  "kernelspec": {
   "display_name": "Python 3",
   "language": "python",
   "name": "python3"
  },
  "language_info": {
   "codemirror_mode": {
    "name": "ipython",
    "version": 3
   },
   "file_extension": ".py",
   "mimetype": "text/x-python",
   "name": "python",
   "nbconvert_exporter": "python",
   "pygments_lexer": "ipython3",
   "version": "3.5.0"
  }
 },
 "nbformat": 4,
 "nbformat_minor": 0
}
